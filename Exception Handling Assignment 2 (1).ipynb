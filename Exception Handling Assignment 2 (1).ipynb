{
 "cells": [
  {
   "cell_type": "markdown",
   "id": "a0a3a8b2-269c-4b9a-9774-5132b84f4985",
   "metadata": {},
   "source": [
    "Ans 1)"
   ]
  },
  {
   "cell_type": "code",
   "execution_count": null,
   "id": "ecda16b9-4414-4508-a7b6-84d5f1332c95",
   "metadata": {},
   "outputs": [],
   "source": [
    "# Using the Exception class as the base class for custom exceptions in Python is recommended for the following reasons:\n",
    "\n",
    "#a)Consistency: It ensures that your custom exception follows the same conventions and behaviors as other built-in exceptions.\n",
    "\n",
    "#b)Compatibility: Your custom exception can be caught and handled alongside other built-in exceptions.\n",
    "\n",
    "#c)Built-in features: The Exception class provides useful methods and attributes for handling exceptions.\n",
    "\n",
    "#d)Code clarity: It makes your code more readable and self-explanatory, enhancing code comprehension and maintenance."
   ]
  },
  {
   "cell_type": "markdown",
   "id": "f381fd59-77d5-43ec-81e8-effddec33c9c",
   "metadata": {},
   "source": [
    "Ans 2)"
   ]
  },
  {
   "cell_type": "code",
   "execution_count": null,
   "id": "cbb70b7d-9ab1-49f8-a5b8-c7c6b37c5123",
   "metadata": {},
   "outputs": [],
   "source": [
    "def print_exception_hierarchy():\n",
    "    exception_hierarchy = []\n",
    "    current_exception = Exception\n",
    "\n",
    "    while current_exception is not None:\n",
    "        exception_hierarchy.append(current_exception.__name__)\n",
    "        current_exception = current_exception.__base__\n",
    "\n",
    "    exception_hierarchy.reverse()\n",
    "\n",
    "    for exception_class in exception_hierarchy:\n",
    "        print(exception_class)\n",
    "\n",
    "# Print the exception hierarchy\n",
    "print_exception_hierarchy()\n"
   ]
  },
  {
   "cell_type": "markdown",
   "id": "a04fa4f9-991a-46ef-8063-785be61307d5",
   "metadata": {},
   "source": [
    "Ans 3)"
   ]
  },
  {
   "cell_type": "code",
   "execution_count": null,
   "id": "fc28221f-cf17-4471-bf42-e4c6b5f37a5d",
   "metadata": {},
   "outputs": [],
   "source": [
    "# The ArithmeticError class is a base class for exceptions that occur during arithmetic operations in Python. It itself doesn't define any specific errors but several subclasses inherit from it to represent different arithmetic-related exceptions two commonly encountered errors derived from ArithmeticError are:\n",
    "#1) ZeroDivisionError: This exception is raised when you attempt to divide a number by zero. It occurs when the denominator in a division operation is zero. For example:\n",
    "\n",
    "numerator = 10\n",
    "denominator = 0\n",
    "\n",
    "try:\n",
    "    result = numerator / denominator\n",
    "except ZeroDivisionError as e:\n",
    "    print(\"Error:\", e)\n",
    "\n",
    "    \n",
    "#2) OverflowError: This exception is raised when the result of an arithmetic operation exceeds the maximum representable value for a numeric type.\n",
    "\n",
    "#example\n",
    "a = 2 ** 1000\n",
    "\n",
    "try:\n",
    "    b = a * a\n",
    "except OverflowError as e:\n",
    "    print(\"Error:\", e)\n",
    "\n",
    "\n"
   ]
  },
  {
   "cell_type": "markdown",
   "id": "de13db0f-120e-4a35-bad8-bc228ddb2ac8",
   "metadata": {},
   "source": [
    "Ans 4)"
   ]
  },
  {
   "cell_type": "code",
   "execution_count": null,
   "id": "8ab2bb40-c5eb-460e-bfa9-c554529cf1e5",
   "metadata": {},
   "outputs": [],
   "source": [
    "# The LookupError class in Python is a base class for exceptions that occur when a lookup or indexing operation fails. It serves as a superclass for more specific lookup-related exceptions, such as KeyError and IndexError.\n",
    "\n",
    "#KeyError: This exception is raised when a dictionary key or a set element is not found during a lookup operation. example -\n",
    "\n",
    "my_dict = {'a': 1, 'b': 2, 'c': 3}\n",
    "\n",
    "try:\n",
    "    value = my_dict['d']\n",
    "except KeyError as e:\n",
    "    print(\"Error:\", e)\n",
    "\n",
    "#output\n",
    "Error: 'd'\n",
    "\n",
    "\n",
    "\n",
    "# IndexError: This exception is raised when a sequence index is out of range. It occurs when attempting to access an element at an invalid or nonexistent index\n",
    "# example\n",
    "\n",
    "my_list = [1, 2, 3]\n",
    "\n",
    "try:\n",
    "    value = my_list[3]\n",
    "except IndexError as e:\n",
    "    print(\"Error:\", e)\n",
    "\n",
    "    \n",
    "#output\n",
    "Error: list index out of range\n"
   ]
  },
  {
   "cell_type": "markdown",
   "id": "aac7f5d5-f270-427d-abb0-278efa899397",
   "metadata": {},
   "source": [
    "Ans 5)"
   ]
  },
  {
   "cell_type": "code",
   "execution_count": null,
   "id": "b25ea6fc-d97f-4449-b18f-60a872e2f55f",
   "metadata": {},
   "outputs": [],
   "source": [
    "# ImportError is a general exception raised when an imported module or package cannot be found or loaded.\n",
    "#ModuleNotFoundError is a subclass of ImportError introduced in Python 3.6. It specifically represents a situation where a module or package could not be found during the import process.\n",
    "#ModuleNotFoundError provides a more specific exception for indicating that a module or package is missing, while ImportError can be raised for various import-related errors. Catching ModuleNotFoundError allows for more precise handling when you specifically want to handle the case of a missing module or package.\n"
   ]
  },
  {
   "cell_type": "markdown",
   "id": "7aae0078-0ff1-42d4-a214-c3cb67fd3f59",
   "metadata": {},
   "source": [
    "Ans 6)"
   ]
  },
  {
   "cell_type": "code",
   "execution_count": null,
   "id": "6ba2d9f5-0b77-447a-921f-8e42a8477c7f",
   "metadata": {},
   "outputs": [],
   "source": [
    "# Use finally block for cleanup: Ensure cleanup code is executed with a finally block.\n",
    "# Avoid excessive nesting: Keep exception handling code flat and minimize nesting.\n",
    "# Provide informative error messages: Include descriptive error messages for better debugging.\n",
    "# Use exception chaining: Preserve original exception traceback when raising a different exception.\n",
    "# Use built-in exception hierarchy: Inherit from appropriate base classes when creating custom exceptions.\n",
    "# Avoid suppressing exceptions: Handle or re-raise exceptions instead of suppressing them.\n",
    "# Use logging: Record exceptions using a logging framework for debugging and monitoring."
   ]
  }
 ],
 "metadata": {
  "kernelspec": {
   "display_name": "Python 3 (ipykernel)",
   "language": "python",
   "name": "python3"
  },
  "language_info": {
   "codemirror_mode": {
    "name": "ipython",
    "version": 3
   },
   "file_extension": ".py",
   "mimetype": "text/x-python",
   "name": "python",
   "nbconvert_exporter": "python",
   "pygments_lexer": "ipython3",
   "version": "3.10.8"
  }
 },
 "nbformat": 4,
 "nbformat_minor": 5
}
